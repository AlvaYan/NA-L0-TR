{
 "cells": [
  {
   "cell_type": "markdown",
   "id": "a8ee965b-8203-4654-90e0-eadbc1c3c002",
   "metadata": {},
   "source": [
    "## resize images"
   ]
  },
  {
   "cell_type": "code",
   "execution_count": 68,
   "id": "04739b7d-2e3d-46a0-ace9-3f4750cac377",
   "metadata": {
    "tags": []
   },
   "outputs": [],
   "source": [
    "import skimage.transform as skTrans\n",
    "import os\n",
    "import cv2\n",
    "import numpy as np\n",
    "import pandas as pd\n",
    "import re\n",
    "\n",
    "source_path='C:\\\\TianLaptopData\\\\LaptopData\\\\desktop\\\\simulation new\\\\data set\\\\kth\\\\'\n",
    "des_path='C:\\\\TianLaptopData\\\\LaptopData\\\\desktop\\\\simulation new\\\\data set\\\\kth\\\\preprocessed\\\\'\n",
    "file_path = 'frames.txt'\n",
    "os.chdir(source_path)\n",
    "\n",
    "data = []\n",
    "with open(file_path, 'r') as file:\n",
    "    for line in file:\n",
    "        # Splitting the line by tabs or multiple spaces\n",
    "        parts = re.split('\\tframes\\t', line)\n",
    "\n",
    "        #print(parts)\n",
    "        action_id, frame_ranges = parts[0], parts[-1]\n",
    "        action_id=re.sub('\\t', '', action_id)\n",
    "        frame_ranges=re.sub('\\n', '', frame_ranges)\n",
    "        \n",
    "        # Extract all individual frame ranges\n",
    "        ranges = re.split(',|-',frame_ranges)\n",
    "\n",
    "        # Process the last 8 numbers (the last two ranges)\n",
    "        last_8_numbers = []\n",
    "        for range_part in ranges:\n",
    "            last_8_numbers.append(int(range_part))\n",
    "\n",
    "        # Divide the last 8 numbers into 4 number pairs\n",
    "        data.append([action_id, last_8_numbers])\n",
    "\n",
    "# Create a DataFrame from the collected data\n",
    "df = pd.DataFrame(data, columns=['ID', 'Frames'])\n",
    "os.chdir(source_path)\n",
    "df.to_csv('frames.csv',index=False)"
   ]
  },
  {
   "cell_type": "code",
   "execution_count": 69,
   "id": "62f4467a-5860-40d7-9444-a0abfe87b8f5",
   "metadata": {
    "tags": []
   },
   "outputs": [],
   "source": [
    "folders=['running','jogging','walking','boxing','handclapping','handwaving']\n",
    "output_size=(4,4)\n",
    "frame_number=4\n",
    "invalid_files=[]\n",
    "for f in folders:\n",
    "    path_type=source_path+f\n",
    "    files=os.listdir(path=path_type)\n",
    "    for ff in files:\n",
    "        os.chdir(path_type)\n",
    "        cap = cv2.VideoCapture(ff)\n",
    "\n",
    "        #read and preprocess each frame\n",
    "        frames = []\n",
    "        while cap.isOpened():\n",
    "            ret, frame = cap.read()\n",
    "            if not ret:\n",
    "                break\n",
    "            gray_frame = cv2.cvtColor(frame, cv2.COLOR_BGR2GRAY)\n",
    "            resized_frame = cv2.resize(gray_frame, output_size, interpolation=cv2.INTER_AREA)\n",
    "            normalized_frame = resized_frame / 255.0\n",
    "            frames.append(normalized_frame)\n",
    "            \n",
    "        # divede videa into sequence\n",
    "        row = df[df['ID'] == ff[0:-11]]\n",
    "    \n",
    "        # If the row is found, return the Content, otherwise return None\n",
    "        if not row.empty:\n",
    "            pages=list(row['Frames'])[0]\n",
    "        else:\n",
    "            pages=[1,len(frames)]\n",
    "            \n",
    "        #print([len(frames),pages[-1]])\n",
    "        if len(frames)!=pages[-1]:\n",
    "            invalid_files.append(ff)\n",
    "            continue\n",
    "            \n",
    "        for i in range(0,len(pages),2):\n",
    "            seq=frames[(pages[i]-1):pages[i+1]]\n",
    "            \n",
    "            #downsampling frames\n",
    "            seq_down=[int(j) for j in np.linspace(0, len(seq)-1, frame_number)]\n",
    "            seq_down=[seq[j] for j in seq_down]\n",
    "            video_data = np.array(seq_down)\n",
    "            name=ff[0:-11]+'_'+str(i//2)+'.npz'\n",
    "            os.chdir(des_path)\n",
    "            np.savez(name, video_data)\n",
    "            \n",
    "        \n"
   ]
  },
  {
   "cell_type": "code",
   "execution_count": 147,
   "id": "c979cdcb-5f16-4801-8e56-116cd66710c2",
   "metadata": {
    "tags": []
   },
   "outputs": [],
   "source": [
    "files=os.listdir(path=path_type)\n",
    "for ff in ['person01_jogging_d1_uncomp.avi']:\n",
    "    os.chdir('C:\\\\TianLaptopData\\\\LaptopData\\\\desktop\\\\simulation new\\\\data set\\\\kth\\\\jogging')\n",
    "    cap = cv2.VideoCapture(ff)\n",
    "\n",
    "    #read and preprocess each frame\n",
    "    frames = []\n",
    "    frames1 = []\n",
    "    while cap.isOpened():\n",
    "        ret, frame = cap.read()\n",
    "        if not ret:\n",
    "            break\n",
    "        gray_frame = cv2.cvtColor(frame, cv2.COLOR_BGR2GRAY)\n",
    "        frames.append(gray_frame)\n",
    "        resized_frame = cv2.resize(gray_frame, [4,4], interpolation=cv2.INTER_AREA)\n",
    "        frames1.append(resized_frame)\n"
   ]
  },
  {
   "cell_type": "code",
   "execution_count": 155,
   "id": "662207a4-439d-45d1-90f6-22de28b1c294",
   "metadata": {
    "tags": []
   },
   "outputs": [
    {
     "name": "stdout",
     "output_type": "stream",
     "text": [
      "[[159 160 163 ... 166 166 165]\n",
      " [137 133 138 ... 137 138 136]\n",
      " [139 140 133 ... 132 133 137]\n",
      " ...\n",
      " [122 118 117 ... 114 116 124]\n",
      " [112 110 124 ... 118 117 115]\n",
      " [123 125 126 ... 119 114 109]]\n",
      "[[135 135 136 137]\n",
      " [134 132 130 130]\n",
      " [134 137 139 139]\n",
      " [119 119 120 122]]\n"
     ]
    }
   ],
   "source": [
    "i=121\n",
    "print(frames[i])\n",
    "print(frames1[i])"
   ]
  },
  {
   "cell_type": "code",
   "execution_count": 160,
   "id": "d24080f2-ede8-4968-b04b-f18d142b9423",
   "metadata": {
    "tags": []
   },
   "outputs": [
    {
     "data": {
      "text/plain": [
       "array([[[0.5254902 , 0.52941176, 0.52941176, 0.53333333],\n",
       "        [0.51764706, 0.50980392, 0.50980392, 0.50980392],\n",
       "        [0.52941176, 0.5372549 , 0.54509804, 0.54509804],\n",
       "        [0.4745098 , 0.47058824, 0.46666667, 0.4745098 ]],\n",
       "\n",
       "       [[0.52941176, 0.52941176, 0.53333333, 0.51764706],\n",
       "        [0.5254902 , 0.51764706, 0.51372549, 0.42352941],\n",
       "        [0.53333333, 0.5372549 , 0.54509804, 0.41568627],\n",
       "        [0.4745098 , 0.46666667, 0.45490196, 0.35294118]],\n",
       "\n",
       "       [[0.54901961, 0.51372549, 0.55294118, 0.55686275],\n",
       "        [0.54901961, 0.41176471, 0.5372549 , 0.5372549 ],\n",
       "        [0.52941176, 0.37254902, 0.56078431, 0.56862745],\n",
       "        [0.44705882, 0.42745098, 0.48627451, 0.50196078]],\n",
       "\n",
       "       [[0.54117647, 0.54117647, 0.54509804, 0.55294118],\n",
       "        [0.5372549 , 0.52941176, 0.5254902 , 0.5254902 ],\n",
       "        [0.54117647, 0.55294118, 0.56078431, 0.56470588],\n",
       "        [0.48235294, 0.48235294, 0.48235294, 0.49803922]]])"
      ]
     },
     "execution_count": 160,
     "metadata": {},
     "output_type": "execute_result"
    }
   ],
   "source": [
    "data4"
   ]
  },
  {
   "cell_type": "code",
   "execution_count": 158,
   "id": "0c1f6ace-8310-4ff6-8c94-0c1c8763dd39",
   "metadata": {
    "tags": []
   },
   "outputs": [
    {
     "name": "stdout",
     "output_type": "stream",
     "text": [
      "Keys in the .npz file: ['arr_0']\n",
      "Shape of array_0: (4, 4, 4)\n",
      "Array 'arr_0' shape: (4, 4, 4)\n"
     ]
    }
   ],
   "source": [
    "import numpy as np\n",
    "\n",
    "# Load the .npz file\n",
    "npz_data = np.load('C:\\\\TianLaptopData\\\\LaptopData\\\\desktop\\\\simulation new\\\\data set\\\\kth\\\\preprocessed\\\\person01_jogging_d1_2.npz')\n",
    "array_data = npz_data.get('arr_0')\n",
    "npz_data.close()"
   ]
  },
  {
   "cell_type": "markdown",
   "id": "6c99fc6f-eb7a-4317-82e4-369334103f4c",
   "metadata": {},
   "source": [
    "## SVM"
   ]
  },
  {
   "cell_type": "code",
   "execution_count": 81,
   "id": "48dd8299-d78a-4c07-a547-d718b8fbe53f",
   "metadata": {
    "tags": []
   },
   "outputs": [],
   "source": [
    "import numpy as np\n",
    "import os\n",
    "\n",
    "# Specify the path to the folder containing the .npz files\n",
    "testing_person=['02', '03', '05', '06', '07', '08']\n",
    "type1=['running','jogging','walking']\n",
    "type2=['boxing','handclapping','handwaving']\n",
    "folder_path = 'C:\\\\TianLaptopData\\\\LaptopData\\\\desktop\\\\simulation new\\\\data set\\\\kth\\\\preprocessed\\\\'\n",
    "\n",
    "# Get a list of all .npz files in the folder\n",
    "npz_files = [file for file in os.listdir(folder_path) if file.endswith('.npz')]\n",
    "\n",
    "# Initialize an empty list to store the flattened arrays\n",
    "X_train = []\n",
    "X_test = []\n",
    "Y_train=[]\n",
    "Y_test=[]\n",
    "# Iterate over the list of .npz files\n",
    "os.chdir(folder_path)\n",
    "for filename in npz_files:\n",
    "    # Construct the full file path\n",
    "    array = np.load(filename)['arr_0']\n",
    "    if filename[6:8] not in testing_person:\n",
    "        X_train.append(array.flatten())\n",
    "        Y_train.append(filename[9:-9] in type2)\n",
    "    else:\n",
    "        X_test.append(array.flatten())\n",
    "        Y_test.append(filename[9:-9] in type2)\n",
    "\n",
    "# Concatenate all flattened arrays into a single n*p array\n",
    "# Note: This assumes all arrays have the same length when flattened\n",
    "X_train = np.vstack(X_train)\n",
    "X_test = np.vstack(X_test)"
   ]
  },
  {
   "cell_type": "code",
   "execution_count": 82,
   "id": "f946a8f3-35f5-4733-a03b-152ac3ee3eff",
   "metadata": {
    "tags": []
   },
   "outputs": [
    {
     "data": {
      "text/plain": [
       "(1697, 64)"
      ]
     },
     "execution_count": 82,
     "metadata": {},
     "output_type": "execute_result"
    }
   ],
   "source": [
    "(X_train.shape)"
   ]
  },
  {
   "cell_type": "code",
   "execution_count": 83,
   "id": "7c93677c-ed90-4367-9c0e-aa30da9a2e0f",
   "metadata": {
    "tags": []
   },
   "outputs": [
    {
     "data": {
      "text/plain": [
       "SVC()"
      ]
     },
     "execution_count": 83,
     "metadata": {},
     "output_type": "execute_result"
    }
   ],
   "source": [
    "from sklearn import svm\n",
    "#X_train = df_train[:,1:-1]\n",
    "#y_train = df_train[:,-1]\n",
    "clf = svm.SVC()\n",
    "clf.fit(X_train, Y_train)"
   ]
  },
  {
   "cell_type": "code",
   "execution_count": 84,
   "id": "59c4d158-b0c3-416f-8c57-7791db8e15d1",
   "metadata": {
    "tags": []
   },
   "outputs": [],
   "source": [
    "pred=clf.predict(X_test)"
   ]
  },
  {
   "cell_type": "code",
   "execution_count": 85,
   "id": "ecdc90f6-62f3-4bac-b02c-b96a1ec821f7",
   "metadata": {
    "tags": []
   },
   "outputs": [
    {
     "data": {
      "text/plain": [
       "0.9626334519572953"
      ]
     },
     "execution_count": 85,
     "metadata": {},
     "output_type": "execute_result"
    }
   ],
   "source": [
    "sum(pred==Y_test)/len(pred)"
   ]
  },
  {
   "cell_type": "code",
   "execution_count": 86,
   "id": "111c6f50-42da-47df-b153-2a9b90aedd2e",
   "metadata": {
    "tags": []
   },
   "outputs": [
    {
     "data": {
      "text/plain": [
       "0.4908662345315262"
      ]
     },
     "execution_count": 86,
     "metadata": {},
     "output_type": "execute_result"
    }
   ],
   "source": [
    "sum(Y_train)/len(Y_train)"
   ]
  },
  {
   "cell_type": "markdown",
   "id": "bbcd582f-7470-4095-b13c-e1b2dd22e507",
   "metadata": {
    "tags": []
   },
   "source": [
    "# plotting"
   ]
  },
  {
   "cell_type": "code",
   "execution_count": 161,
   "id": "66260320-3426-42eb-8fa2-fdf0e065c93e",
   "metadata": {
    "tags": []
   },
   "outputs": [],
   "source": [
    "import numpy as np\n",
    "import os\n",
    "npz_path = 'C:\\\\TianLaptopData\\\\LaptopData\\\\desktop\\\\simulation new\\\\data set\\\\kth\\\\preprocessed\\\\'\n",
    "\n",
    "# Load the NPZ file\n",
    "os.chdir(npz_path)\n",
    "npz_file = np.load('person01_boxing_d1_1.npz')\n",
    "data1 = npz_file['arr_0']  # Adjust 'arr_0' if your array is stored under a different key\n",
    "npz_file.close()\n",
    "\n",
    "npz_file = np.load('person01_handclapping_d1_0.npz')\n",
    "data2 = npz_file['arr_0']  # Adjust 'arr_0' if your array is stored under a different key\n",
    "npz_file.close()\n",
    "\n",
    "npz_file = np.load('person01_handwaving_d1_2.npz')\n",
    "data3 = npz_file['arr_0']  # Adjust 'arr_0' if your array is stored under a different key\n",
    "npz_file.close()\n",
    "\n",
    "npz_file = np.load('person01_jogging_d1_2.npz')\n",
    "data4 = npz_file['arr_0']  # Adjust 'arr_0' if your array is stored under a different key\n",
    "npz_file.close()\n",
    "\n",
    "npz_file = np.load('person01_running_d1_3.npz')\n",
    "data5 = npz_file['arr_0']  # Adjust 'arr_0' if your array is stored under a different key\n",
    "npz_file.close()\n",
    "\n",
    "npz_file = np.load('person01_walking_d1_3.npz')\n",
    "data6 = npz_file['arr_0']  # Adjust 'arr_0' if your array is stored under a different key\n",
    "npz_file.close()\n",
    "\n",
    "#---------------------------------\n",
    "npz_file = np.load('person23_boxing_d3_1.npz')\n",
    "data7 = npz_file['arr_0']  # Adjust 'arr_0' if your array is stored under a different key\n",
    "npz_file.close()\n",
    "\n",
    "npz_file = np.load('person23_jogging_d3_2.npz')\n",
    "data10 = npz_file['arr_0']  # Adjust 'arr_0' if your array is stored under a different key\n",
    "npz_file.close()"
   ]
  },
  {
   "cell_type": "code",
   "execution_count": 162,
   "id": "630c1641-434c-4679-ba4f-85d1ef13c515",
   "metadata": {
    "tags": []
   },
   "outputs": [],
   "source": [
    "path = 'C:\\\\TianLaptopData\\\\LaptopData\\\\desktop\\\\simulation new\\\\data set\\\\kth\\\\images'\n",
    "os.chdir(path)\n",
    "np.savetxt(\"data11.csv\", data1[0], delimiter=\",\")\n",
    "np.savetxt(\"data12.csv\", data1[1], delimiter=\",\")\n",
    "np.savetxt(\"data13.csv\", data1[2], delimiter=\",\")\n",
    "np.savetxt(\"data14.csv\", data1[3], delimiter=\",\")\n",
    "\n",
    "np.savetxt(\"data21.csv\", data2[0], delimiter=\",\")\n",
    "np.savetxt(\"data22.csv\", data2[1], delimiter=\",\")\n",
    "np.savetxt(\"data23.csv\", data2[2], delimiter=\",\")\n",
    "np.savetxt(\"data24.csv\", data2[3], delimiter=\",\")\n",
    "\n",
    "np.savetxt(\"data31.csv\", data3[0], delimiter=\",\")\n",
    "np.savetxt(\"data32.csv\", data3[1], delimiter=\",\")\n",
    "np.savetxt(\"data33.csv\", data3[2], delimiter=\",\")\n",
    "np.savetxt(\"data34.csv\", data3[3], delimiter=\",\")\n",
    "\n",
    "np.savetxt(\"data41.csv\", data4[0], delimiter=\",\")\n",
    "np.savetxt(\"data42.csv\", data4[1], delimiter=\",\")\n",
    "np.savetxt(\"data43.csv\", data4[2], delimiter=\",\")\n",
    "np.savetxt(\"data44.csv\", data4[3], delimiter=\",\")\n",
    "\n",
    "np.savetxt(\"data51.csv\", data5[0], delimiter=\",\")\n",
    "np.savetxt(\"data52.csv\", data5[1], delimiter=\",\")\n",
    "np.savetxt(\"data53.csv\", data5[2], delimiter=\",\")\n",
    "np.savetxt(\"data54.csv\", data5[3], delimiter=\",\")\n",
    "\n",
    "np.savetxt(\"data61.csv\", data6[0], delimiter=\",\")\n",
    "np.savetxt(\"data62.csv\", data6[1], delimiter=\",\")\n",
    "np.savetxt(\"data63.csv\", data6[2], delimiter=\",\")\n",
    "np.savetxt(\"data64.csv\", data6[3], delimiter=\",\")\n",
    "\n",
    "#---------------------------\n",
    "np.savetxt(\"data71.csv\", data7[0], delimiter=\",\")\n",
    "np.savetxt(\"data72.csv\", data7[1], delimiter=\",\")\n",
    "np.savetxt(\"data73.csv\", data7[2], delimiter=\",\")\n",
    "np.savetxt(\"data74.csv\", data7[3], delimiter=\",\")\n",
    "\n",
    "np.savetxt(\"data101.csv\", data10[0], delimiter=\",\")\n",
    "np.savetxt(\"data102.csv\", data10[1], delimiter=\",\")\n",
    "np.savetxt(\"data103.csv\", data10[2], delimiter=\",\")\n",
    "np.savetxt(\"data104.csv\", data10[3], delimiter=\",\")\n",
    "\n"
   ]
  },
  {
   "cell_type": "code",
   "execution_count": 167,
   "id": "9dc0f62a-b6e5-4afb-8a91-ed4cd2066f5c",
   "metadata": {
    "tags": []
   },
   "outputs": [],
   "source": [
    "npz_path = 'C:\\\\TianLaptopData\\\\LaptopData\\\\desktop\\\\simulation new\\\\data set\\\\kth\\\\preprocessed\\\\'\n",
    "os.chdir(npz_path)\n",
    "\n",
    "npz_file = np.load('person23_boxing_d3_1.npz')\n",
    "data7 = npz_file['arr_0']  # Adjust 'arr_0' if your array is stored under a different key\n",
    "npz_file.close()\n",
    "\n",
    "npz_file = np.load('person23_jogging_d3_2.npz')\n",
    "data10 = npz_file['arr_0']  # Adjust 'arr_0' if your array is stored under a different key\n",
    "npz_file.close()\n",
    "\n",
    "path = 'C:\\\\TianLaptopData\\\\LaptopData\\\\desktop\\\\simulation new\\\\data set\\\\kth\\\\images'\n",
    "os.chdir(path)\n",
    "\n",
    "np.savetxt(\"data71.csv\", data7[0], delimiter=\",\")\n",
    "np.savetxt(\"data72.csv\", data7[1], delimiter=\",\")\n",
    "np.savetxt(\"data73.csv\", data7[2], delimiter=\",\")\n",
    "np.savetxt(\"data74.csv\", data7[3], delimiter=\",\")\n",
    "\n",
    "np.savetxt(\"data101.csv\", data10[0], delimiter=\",\")\n",
    "np.savetxt(\"data102.csv\", data10[1], delimiter=\",\")\n",
    "np.savetxt(\"data103.csv\", data10[2], delimiter=\",\")\n",
    "np.savetxt(\"data104.csv\", data10[3], delimiter=\",\")\n"
   ]
  },
  {
   "cell_type": "code",
   "execution_count": 106,
   "id": "e11528f3-0cbb-4794-8fba-43eb695f34e1",
   "metadata": {
    "tags": []
   },
   "outputs": [],
   "source": [
    "import matplotlib.pyplot as plt\n",
    "im_path = 'C:\\\\TianLaptopData\\\\LaptopData\\\\desktop\\\\simulation new\\\\data set\\\\kth\\\\images'\n",
    "os.chdir(im_path)\n",
    "\n",
    "# Define the number of columns for subplotting\n",
    "def plot_video(data,ii):\n",
    "    columns = 4\n",
    "    rows = (data.shape[0] + columns - 1) // columns  # Ensure all frames fit\n",
    "\n",
    "    fig, axs = plt.subplots(rows, columns, figsize=(columns * 3, rows * 3))\n",
    "\n",
    "    for i, ax in enumerate(axs.flat):\n",
    "        if i < data.shape[0]:\n",
    "            ax.imshow(data[i], cmap='gray', interpolation='nearest')\n",
    "            ax.set_title(f'Frame {i + 1}')\n",
    "            ax.axis('off')\n",
    "        else:\n",
    "            ax.axis('off')  # Hide unused subplots\n",
    "\n",
    "    plt.tight_layout()\n",
    "    name='frames_grid'+str(ii)+'.pdf'\n",
    "    plt.savefig(name, format='pdf', dpi=300)  # Save the figure in PDF for high quality\n",
    "    plt.show()\n"
   ]
  },
  {
   "cell_type": "code",
   "execution_count": 107,
   "id": "213d53c5-0191-4878-9fa3-7b7acc3a5ac4",
   "metadata": {
    "tags": []
   },
   "outputs": [
    {
     "data": {
      "image/png": "[encoded data removed]",
      "text/plain": [
       "<Figure size 1200x300 with 4 Axes>"
      ]
     },
     "metadata": {},
     "output_type": "display_data"
    }
   ],
   "source": [
    "plot_video(data1,1)#boxing"
   ]
  },
  {
   "cell_type": "code",
   "execution_count": 108,
   "id": "d1b039c2-bca1-43be-9fc5-874e1e281e22",
   "metadata": {
    "tags": []
   },
   "outputs": [
    {
     "data": {
      "image/png": "[encoded data removed]",
      "text/plain": [
       "<Figure size 1200x300 with 4 Axes>"
      ]
     },
     "metadata": {},
     "output_type": "display_data"
    }
   ],
   "source": [
    "plot_video(data2,2)#handclapping"
   ]
  },
  {
   "cell_type": "code",
   "execution_count": 109,
   "id": "19ea4ef8-c1db-407e-a457-3098ca443dfe",
   "metadata": {
    "tags": []
   },
   "outputs": [
    {
     "data": {
      "image/png": "[encoded data removed]",
      "text/plain": [
       "<Figure size 1200x300 with 4 Axes>"
      ]
     },
     "metadata": {},
     "output_type": "display_data"
    }
   ],
   "source": [
    "plot_video(data3,3)#handwaving"
   ]
  },
  {
   "cell_type": "code",
   "execution_count": 110,
   "id": "63ec7e70-6937-458e-9ad1-e33465c017a0",
   "metadata": {
    "tags": []
   },
   "outputs": [
    {
     "data": {
      "image/png": "[encoded data removed]",
      "text/plain": [
       "<Figure size 1200x300 with 4 Axes>"
      ]
     },
     "metadata": {},
     "output_type": "display_data"
    }
   ],
   "source": [
    "plot_video(data4,4)#jogging"
   ]
  },
  {
   "cell_type": "code",
   "execution_count": 111,
   "id": "14ed4514-5f60-4ea5-803e-4279f79eb1aa",
   "metadata": {
    "tags": []
   },
   "outputs": [
    {
     "data": {
      "image/png": "[encoded data removed]",
      "text/plain": [
       "<Figure size 1200x300 with 4 Axes>"
      ]
     },
     "metadata": {},
     "output_type": "display_data"
    }
   ],
   "source": [
    "plot_video(data5,5)#running"
   ]
  },
  {
   "cell_type": "code",
   "execution_count": 112,
   "id": "741d7f58-2540-4f0a-9357-74ee783710d1",
   "metadata": {
    "tags": []
   },
   "outputs": [
    {
     "data": {
      "image/png": "[encoded data removed]",
      "text/plain": [
       "<Figure size 1200x300 with 4 Axes>"
      ]
     },
     "metadata": {},
     "output_type": "display_data"
    }
   ],
   "source": [
    "plot_video(data6,6)#walking"
   ]
  },
  {
   "cell_type": "code",
   "execution_count": 164,
   "id": "de155cc8-af99-4bdd-b1a8-eae9beb4e392",
   "metadata": {
    "tags": []
   },
   "outputs": [
    {
     "data": {
      "image/png": "[encoded data removed]",
      "text/plain": [
       "<Figure size 1200x300 with 4 Axes>"
      ]
     },
     "metadata": {},
     "output_type": "display_data"
    }
   ],
   "source": [
    "plot_video(data7,7)#walking"
   ]
  },
  {
   "cell_type": "code",
   "execution_count": 165,
   "id": "6fb15b57-6635-48d4-b648-1b3c38b357ea",
   "metadata": {
    "tags": []
   },
   "outputs": [
    {
     "data": {
      "image/png": "[encoded data removed]",
      "text/plain": [
       "<Figure size 1200x300 with 4 Axes>"
      ]
     },
     "metadata": {},
     "output_type": "display_data"
    }
   ],
   "source": [
    "plot_video(data10,10)#walking"
   ]
  },
  {
   "cell_type": "code",
   "execution_count": null,
   "id": "9c059dc9-fe13-4c3a-9ce1-98daf27b5e32",
   "metadata": {},
   "outputs": [],
   "source": []
  }
 ],
 "metadata": {
  "kernelspec": {
   "display_name": "Python 3 (ipykernel)",
   "language": "python",
   "name": "python3"
  },
  "language_info": {
   "codemirror_mode": {
    "name": "ipython",
    "version": 3
   },
   "file_extension": ".py",
   "mimetype": "text/x-python",
   "name": "python",
   "nbconvert_exporter": "python",
   "pygments_lexer": "ipython3",
   "version": "3.7.9"
  }
 },
 "nbformat": 4,
 "nbformat_minor": 5
}
